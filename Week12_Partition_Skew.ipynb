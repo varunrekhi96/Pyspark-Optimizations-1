{
 "cells": [
  {
   "cell_type": "code",
   "execution_count": 1,
   "id": "9d340870",
   "metadata": {},
   "outputs": [],
   "source": [
    "from pyspark.sql import SparkSession\n",
    "import getpass\n",
    "username = getpass.getuser()\n",
    "spark = SparkSession. \\\n",
    "builder. \\\n",
    "config('spark.ui.port', '0'). \\\n",
    "config('spark.shuffle.useOldFetchProtocol', 'true'). \\\n",
    "config(\"spark.sql.warehouse.dir\", f\"/user/{username}/warehouse\"). \\\n",
    "enableHiveSupport(). \\\n",
    "master('yarn'). \\\n",
    "getOrCreate()"
   ]
  },
  {
   "cell_type": "code",
   "execution_count": 2,
   "id": "f503bd21",
   "metadata": {},
   "outputs": [],
   "source": [
    "orders_schema = \"order_id long , order_date string, customer_id long,order_status string\""
   ]
  },
  {
   "cell_type": "code",
   "execution_count": 3,
   "id": "a28ec3a1",
   "metadata": {},
   "outputs": [],
   "source": [
    "orders_df = spark.read \\\n",
    ".format(\"csv\") \\\n",
    ".schema(orders_schema) \\\n",
    ".load(\"/public/trendytech/orders/orders_1gb.csv\")"
   ]
  },
  {
   "cell_type": "code",
   "execution_count": 4,
   "id": "533e1864",
   "metadata": {},
   "outputs": [],
   "source": [
    "customer_schema = \"customerid long , customer_fname string , customer_lname string , user_name string,password string , address string, city string, state string, pincode long \""
   ]
  },
  {
   "cell_type": "code",
   "execution_count": 5,
   "id": "8f337a01",
   "metadata": {},
   "outputs": [],
   "source": [
    "customers_df = spark.read \\\n",
    ".format(\"csv\") \\\n",
    ".schema(customer_schema) \\\n",
    ".load(\"/public/trendytech/retail_db/customers\")"
   ]
  },
  {
   "cell_type": "code",
   "execution_count": 6,
   "id": "da1acbb5",
   "metadata": {},
   "outputs": [],
   "source": [
    "orders_df.createOrReplaceTempView(\"orders\")"
   ]
  },
  {
   "cell_type": "code",
   "execution_count": 7,
   "id": "dd70b006",
   "metadata": {},
   "outputs": [],
   "source": [
    "customers_df.createOrReplaceTempView(\"customers\")"
   ]
  },
  {
   "cell_type": "code",
   "execution_count": 8,
   "id": "a2feba26",
   "metadata": {},
   "outputs": [],
   "source": [
    "spark.sql(\"select * from orders inner join customers on orders.customer_id == customers.customerid\").write.format(\"noop\").mode(\"overwrite\").save()"
   ]
  },
  {
   "cell_type": "code",
   "execution_count": 9,
   "id": "d8a3e5c0",
   "metadata": {},
   "outputs": [],
   "source": [
    "orders_new_df = spark.read \\\n",
    ".format(\"csv\") \\\n",
    ".schema(orders_schema) \\\n",
    ".load(\"/public/trendytech/retail_db/ordersnew\")"
   ]
  },
  {
   "cell_type": "code",
   "execution_count": 10,
   "id": "2f2230c1",
   "metadata": {},
   "outputs": [
    {
     "data": {
      "text/plain": [
       "[Row(order_status='PENDING_PAYMENT', count=5636250),\n",
       " Row(order_status='COMPLETE', count=46008801),\n",
       " Row(order_status='ON_HOLD', count=1424250),\n",
       " Row(order_status='PAYMENT_REVIEW', count=273375),\n",
       " Row(order_status='PROCESSING', count=3103125),\n",
       " Row(order_status='CLOSED', count=2833500),\n",
       " Row(order_status='SUSPECTED_FRAUD', count=584250),\n",
       " Row(order_status='PENDING', count=2853750),\n",
       " Row(order_status='CANCELED', count=535500)]"
      ]
     },
     "execution_count": 10,
     "metadata": {},
     "output_type": "execute_result"
    }
   ],
   "source": [
    "orders_new_df.groupBy(\"order_status\").count().collect()"
   ]
  },
  {
   "cell_type": "code",
   "execution_count": 11,
   "id": "f85996d2",
   "metadata": {},
   "outputs": [],
   "source": [
    "mapping_schema = \"status string, code int\""
   ]
  },
  {
   "cell_type": "code",
   "execution_count": 12,
   "id": "8c40b65e",
   "metadata": {},
   "outputs": [],
   "source": [
    "mapping_df = spark.read \\\n",
    ".format(\"csv\") \\\n",
    ".option(\"delimiter\",\"|\") \\\n",
    ".schema(mapping_schema) \\\n",
    ".load(\"/public/trendytech/datasets/mapping_data\")"
   ]
  },
  {
   "cell_type": "code",
   "execution_count": 13,
   "id": "4f0debc6",
   "metadata": {},
   "outputs": [
    {
     "name": "stdout",
     "output_type": "stream",
     "text": [
      "+---------------+----+\n",
      "|         status|code|\n",
      "+---------------+----+\n",
      "|PENDING_PAYMENT|   1|\n",
      "|       COMPLETE|   2|\n",
      "|        ON_HOLD|   3|\n",
      "| PAYMENT_REVIEW|   4|\n",
      "|     PROCESSING|   5|\n",
      "|         CLOSED|   6|\n",
      "|SUSPECTED_FRAUD|   7|\n",
      "|        PENDING|   8|\n",
      "|       CANCELED|   9|\n",
      "+---------------+----+\n",
      "\n"
     ]
    }
   ],
   "source": [
    "mapping_df.show()"
   ]
  },
  {
   "cell_type": "code",
   "execution_count": 14,
   "id": "99f30ddb",
   "metadata": {},
   "outputs": [
    {
     "name": "stdout",
     "output_type": "stream",
     "text": [
      "+--------+--------------------+-----------+------------+\n",
      "|order_id|          order_date|customer_id|order_status|\n",
      "+--------+--------------------+-----------+------------+\n",
      "|    2480|2013-08-07 00:00:...|       3807|    COMPLETE|\n",
      "|   30479|2014-01-30 00:00:...|       9265|    COMPLETE|\n",
      "|    2481|2013-08-07 00:00:...|       2476|    COMPLETE|\n",
      "|   30481|2014-01-30 00:00:...|       9240|    COMPLETE|\n",
      "|    2483|2013-08-07 00:00:...|      10453|    COMPLETE|\n",
      "|   30484|2014-01-30 00:00:...|       2876|    COMPLETE|\n",
      "|    2484|2013-08-07 00:00:...|       9256|    COMPLETE|\n",
      "|   30485|2014-01-30 00:00:...|       1069|    COMPLETE|\n",
      "|    2488|2013-08-07 00:00:...|       1255|    COMPLETE|\n",
      "|   30486|2014-01-30 00:00:...|       1151|    COMPLETE|\n",
      "|    2491|2013-08-07 00:00:...|        247|    COMPLETE|\n",
      "|   30487|2014-01-30 00:00:...|       6772|    COMPLETE|\n",
      "|    2495|2013-08-07 00:00:...|       9011|    COMPLETE|\n",
      "|   30489|2014-01-30 00:00:...|       5717|    COMPLETE|\n",
      "|    2498|2013-08-07 00:00:...|       1966|    COMPLETE|\n",
      "|   30490|2014-01-30 00:00:...|      12189|    COMPLETE|\n",
      "|    2511|2013-08-07 00:00:...|       8544|    COMPLETE|\n",
      "|   30492|2014-01-30 00:00:...|       3710|    COMPLETE|\n",
      "|    2515|2013-08-07 00:00:...|      12056|    COMPLETE|\n",
      "|   30494|2014-01-30 00:00:...|       2724|    COMPLETE|\n",
      "+--------+--------------------+-----------+------------+\n",
      "only showing top 20 rows\n",
      "\n"
     ]
    }
   ],
   "source": [
    "orders_new_df.show()"
   ]
  },
  {
   "cell_type": "code",
   "execution_count": 15,
   "id": "df9455f9",
   "metadata": {},
   "outputs": [],
   "source": [
    "spark.conf.set('spark.sql.autoBroadcastJoinThreshold','-1')"
   ]
  },
  {
   "cell_type": "code",
   "execution_count": null,
   "id": "38b7f380",
   "metadata": {},
   "outputs": [],
   "source": [
    "orders_new_df.join(mapping_df, orders_new_df.order_status == mapping_df.status, \"inner\").write.format(\"noop\").mode(\"overwrite\").save()"
   ]
  },
  {
   "cell_type": "code",
   "execution_count": null,
   "id": "873ad6a8",
   "metadata": {},
   "outputs": [],
   "source": []
  }
 ],
 "metadata": {
  "kernelspec": {
   "display_name": "Pyspark 3",
   "language": "python",
   "name": "pyspark3"
  },
  "language_info": {
   "codemirror_mode": {
    "name": "ipython",
    "version": 3
   },
   "file_extension": ".py",
   "mimetype": "text/x-python",
   "name": "python",
   "nbconvert_exporter": "python",
   "pygments_lexer": "ipython3",
   "version": "3.6.12"
  }
 },
 "nbformat": 4,
 "nbformat_minor": 5
}
