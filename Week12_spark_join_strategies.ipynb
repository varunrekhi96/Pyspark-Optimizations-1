{
 "cells": [
  {
   "cell_type": "code",
   "execution_count": 1,
   "id": "6cddf400",
   "metadata": {},
   "outputs": [],
   "source": [
    "from pyspark.sql import SparkSession\n",
    "import getpass\n",
    "username = getpass.getuser()\n",
    "spark = SparkSession. \\\n",
    "builder. \\\n",
    "config('spark.ui.port', '0'). \\\n",
    "config('spark.shuffle.useOldFetchProtocol', 'true'). \\\n",
    "config(\"spark.sql.warehouse.dir\", f\"/user/{username}/warehouse\"). \\\n",
    "enableHiveSupport(). \\\n",
    "master('yarn'). \\\n",
    "getOrCreate()"
   ]
  },
  {
   "cell_type": "code",
   "execution_count": 2,
   "id": "eb55d2b9",
   "metadata": {},
   "outputs": [],
   "source": [
    "orders_schema = \"order_id long , order_date string, customer_id long,order_status string\""
   ]
  },
  {
   "cell_type": "code",
   "execution_count": 3,
   "id": "709aa37b",
   "metadata": {},
   "outputs": [],
   "source": [
    "orders_df = spark.read \\\n",
    ".format(\"csv\") \\\n",
    ".schema(orders_schema) \\\n",
    ".load(\"/public/trendytech/orders/orders_1gb.csv\")"
   ]
  },
  {
   "cell_type": "code",
   "execution_count": 4,
   "id": "6191976d",
   "metadata": {},
   "outputs": [],
   "source": [
    "customer_schema = \" customerid long , customer_fname string , customer_lname string , user_name string,password string , address string, city string, state string, pincode long \""
   ]
  },
  {
   "cell_type": "code",
   "execution_count": 5,
   "id": "65dc5a30",
   "metadata": {},
   "outputs": [],
   "source": [
    "customers_df = spark.read \\\n",
    ".format(\"csv\") \\\n",
    ".schema(customer_schema) \\\n",
    ".load(\"/public/trendytech/retail_db/customers\")"
   ]
  },
  {
   "cell_type": "code",
   "execution_count": 6,
   "id": "45a932b5",
   "metadata": {},
   "outputs": [
    {
     "data": {
      "text/plain": [
       "'10485760b'"
      ]
     },
     "execution_count": 6,
     "metadata": {},
     "output_type": "execute_result"
    }
   ],
   "source": [
    "spark.conf.get('spark.sql.autoBroadcastJoinThreshold')"
   ]
  },
  {
   "cell_type": "code",
   "execution_count": 7,
   "id": "404160bb",
   "metadata": {},
   "outputs": [],
   "source": [
    "orders_df.join(customers_df, orders_df.customer_id == customers_df.customerid, \"inner\").write.format(\"noop\").mode(\"overwrite\").save()"
   ]
  },
  {
   "cell_type": "code",
   "execution_count": 8,
   "id": "9b79a21b",
   "metadata": {},
   "outputs": [
    {
     "name": "stdout",
     "output_type": "stream",
     "text": [
      "== Physical Plan ==\n",
      "*(2) BroadcastHashJoin [customer_id#2L], [customerid#8L], Inner, BuildRight, false\n",
      ":- *(2) Filter isnotnull(customer_id#2L)\n",
      ":  +- FileScan csv [order_id#0L,order_date#1,customer_id#2L,order_status#3] Batched: false, DataFilters: [isnotnull(customer_id#2L)], Format: CSV, Location: InMemoryFileIndex[hdfs://m01.itversity.com:9000/public/trendytech/orders/orders_1gb.csv], PartitionFilters: [], PushedFilters: [IsNotNull(customer_id)], ReadSchema: struct<order_id:bigint,order_date:string,customer_id:bigint,order_status:string>\n",
      "+- BroadcastExchange HashedRelationBroadcastMode(List(input[0, bigint, false]),false), [id=#65]\n",
      "   +- *(1) Filter isnotnull(customerid#8L)\n",
      "      +- FileScan csv [customerid#8L,customer_fname#9,customer_lname#10,user_name#11,password#12,address#13,city#14,state#15,pincode#16L] Batched: false, DataFilters: [isnotnull(customerid#8L)], Format: CSV, Location: InMemoryFileIndex[hdfs://m01.itversity.com:9000/public/trendytech/retail_db/customers], PartitionFilters: [], PushedFilters: [IsNotNull(customerid)], ReadSchema: struct<customerid:bigint,customer_fname:string,customer_lname:string,user_name:string,password:st...\n",
      "\n",
      "\n"
     ]
    }
   ],
   "source": [
    "orders_df.join(customers_df, orders_df.customer_id == customers_df.customerid, \"inner\").explain()"
   ]
  },
  {
   "cell_type": "code",
   "execution_count": 9,
   "id": "6275f484",
   "metadata": {},
   "outputs": [],
   "source": [
    "spark.conf.set('spark.sql.autoBroadcastJoinThreshold', '-1')"
   ]
  },
  {
   "cell_type": "code",
   "execution_count": 10,
   "id": "5da17608",
   "metadata": {},
   "outputs": [],
   "source": [
    "orders_df.join(customers_df, orders_df.customer_id == customers_df.customerid, \"inner\").write.format(\"noop\").mode(\"overwrite\").save()"
   ]
  },
  {
   "cell_type": "code",
   "execution_count": 11,
   "id": "8a3cecbc",
   "metadata": {},
   "outputs": [
    {
     "name": "stdout",
     "output_type": "stream",
     "text": [
      "== Physical Plan ==\n",
      "*(5) SortMergeJoin [customer_id#2L], [customerid#8L], Inner\n",
      ":- *(2) Sort [customer_id#2L ASC NULLS FIRST], false, 0\n",
      ":  +- Exchange hashpartitioning(customer_id#2L, 200), ENSURE_REQUIREMENTS, [id=#149]\n",
      ":     +- *(1) Filter isnotnull(customer_id#2L)\n",
      ":        +- FileScan csv [order_id#0L,order_date#1,customer_id#2L,order_status#3] Batched: false, DataFilters: [isnotnull(customer_id#2L)], Format: CSV, Location: InMemoryFileIndex[hdfs://m01.itversity.com:9000/public/trendytech/orders/orders_1gb.csv], PartitionFilters: [], PushedFilters: [IsNotNull(customer_id)], ReadSchema: struct<order_id:bigint,order_date:string,customer_id:bigint,order_status:string>\n",
      "+- *(4) Sort [customerid#8L ASC NULLS FIRST], false, 0\n",
      "   +- Exchange hashpartitioning(customerid#8L, 200), ENSURE_REQUIREMENTS, [id=#157]\n",
      "      +- *(3) Filter isnotnull(customerid#8L)\n",
      "         +- FileScan csv [customerid#8L,customer_fname#9,customer_lname#10,user_name#11,password#12,address#13,city#14,state#15,pincode#16L] Batched: false, DataFilters: [isnotnull(customerid#8L)], Format: CSV, Location: InMemoryFileIndex[hdfs://m01.itversity.com:9000/public/trendytech/retail_db/customers], PartitionFilters: [], PushedFilters: [IsNotNull(customerid)], ReadSchema: struct<customerid:bigint,customer_fname:string,customer_lname:string,user_name:string,password:st...\n",
      "\n",
      "\n"
     ]
    }
   ],
   "source": [
    "orders_df.join(customers_df, orders_df.customer_id == customers_df.customerid, \"inner\").explain()"
   ]
  },
  {
   "cell_type": "code",
   "execution_count": 12,
   "id": "224d9c89",
   "metadata": {},
   "outputs": [],
   "source": [
    "orders_df.join(customers_df.hint(\"shuffle_hash\"), orders_df.customer_id == customers_df.customerid, \"inner\").write.format(\"noop\").mode(\"overwrite\").save()"
   ]
  },
  {
   "cell_type": "code",
   "execution_count": 13,
   "id": "e60d0ee5",
   "metadata": {},
   "outputs": [
    {
     "name": "stdout",
     "output_type": "stream",
     "text": [
      "== Physical Plan ==\n",
      "*(3) ShuffledHashJoin [customer_id#2L], [customerid#8L], Inner, BuildRight\n",
      ":- Exchange hashpartitioning(customer_id#2L, 200), ENSURE_REQUIREMENTS, [id=#234]\n",
      ":  +- *(1) Filter isnotnull(customer_id#2L)\n",
      ":     +- FileScan csv [order_id#0L,order_date#1,customer_id#2L,order_status#3] Batched: false, DataFilters: [isnotnull(customer_id#2L)], Format: CSV, Location: InMemoryFileIndex[hdfs://m01.itversity.com:9000/public/trendytech/orders/orders_1gb.csv], PartitionFilters: [], PushedFilters: [IsNotNull(customer_id)], ReadSchema: struct<order_id:bigint,order_date:string,customer_id:bigint,order_status:string>\n",
      "+- Exchange hashpartitioning(customerid#8L, 200), ENSURE_REQUIREMENTS, [id=#239]\n",
      "   +- *(2) Filter isnotnull(customerid#8L)\n",
      "      +- FileScan csv [customerid#8L,customer_fname#9,customer_lname#10,user_name#11,password#12,address#13,city#14,state#15,pincode#16L] Batched: false, DataFilters: [isnotnull(customerid#8L)], Format: CSV, Location: InMemoryFileIndex[hdfs://m01.itversity.com:9000/public/trendytech/retail_db/customers], PartitionFilters: [], PushedFilters: [IsNotNull(customerid)], ReadSchema: struct<customerid:bigint,customer_fname:string,customer_lname:string,user_name:string,password:st...\n",
      "\n",
      "\n"
     ]
    }
   ],
   "source": [
    "orders_df.join(customers_df.hint(\"shuffle_hash\"), orders_df.customer_id == customers_df.customerid, \"inner\").explain()"
   ]
  },
  {
   "cell_type": "code",
   "execution_count": null,
   "id": "672126a5",
   "metadata": {},
   "outputs": [],
   "source": []
  }
 ],
 "metadata": {
  "kernelspec": {
   "display_name": "Pyspark 3",
   "language": "python",
   "name": "pyspark3"
  },
  "language_info": {
   "codemirror_mode": {
    "name": "ipython",
    "version": 3
   },
   "file_extension": ".py",
   "mimetype": "text/x-python",
   "name": "python",
   "nbconvert_exporter": "python",
   "pygments_lexer": "ipython3",
   "version": "3.6.12"
  }
 },
 "nbformat": 4,
 "nbformat_minor": 5
}
